{
 "cells": [
  {
   "cell_type": "code",
   "execution_count": 4,
   "metadata": {},
   "outputs": [],
   "source": [
    "import os\n",
    "import numpy as np\n",
    "import pandas as pd\n",
    "import snap as sp"
   ]
  },
  {
   "cell_type": "markdown",
   "metadata": {},
   "source": [
    "# 1.  Analyzing the Wikipedia voters network\n",
    "* Download the Wikipedia voting network wiki-Vote.txt.gz: http://snap.stanford.edu/data/wiki-Vote.html.\n",
    "    \n",
    "* Using one of the network analysis tools above, load the Wikipedia voting network. Note that Wikipedia is a directed network. Formally, we consider the Wikipedia network as a directed graph $G = (V, E)$, with node set V and edge set $E \\subset V × V$ where (edges are ordered pairs of nodes). An edge $(a, b) \\in E$ means that user a voted on user b."
   ]
  },
  {
   "cell_type": "markdown",
   "metadata": {},
   "source": [
    "To make our questions clearer, we will use the following small graph as a running example:\n",
    "$G_{small} = (V_{small}, E_{small})$, where $V_{small} = {1, 2, 3}$ and $E_{small} = \\{(1, 2),(2, 1),(1, 3),(1, 1\\}$"
   ]
  },
  {
   "cell_type": "code",
   "execution_count": 53,
   "metadata": {},
   "outputs": [
    {
     "data": {
      "text/plain": [
       "-1"
      ]
     },
     "execution_count": 53,
     "metadata": {},
     "output_type": "execute_result"
    }
   ],
   "source": [
    "# create a small graph as running example\n",
    "G_small = sp.TNGraph.New()\n",
    "G_small.AddNode(1)\n",
    "G_small.AddNode(2)\n",
    "G_small.AddNode(3)\n",
    "G_small.AddEdge(1, 2)\n",
    "G_small.AddEdge(2, 1)\n",
    "G_small.AddEdge(1, 3)\n",
    "G_small.AddEdge(1, 1)"
   ]
  },
  {
   "cell_type": "code",
   "execution_count": 6,
   "metadata": {},
   "outputs": [],
   "source": [
    "fname_vikivote = os.path.join(r'../Dataset', 'Wiki-Vote.txt')\n",
    "G_wikivote = sp.LoadEdgeList(sp.PNGraph, fname_vikivote, 0, 1)"
   ]
  },
  {
   "cell_type": "code",
   "execution_count": 46,
   "metadata": {},
   "outputs": [
    {
     "data": {
      "text/plain": [
       "['AddEdge',\n",
       " 'AddEdge2',\n",
       " 'AddEdgeUnchecked',\n",
       " 'AddNode',\n",
       " 'AddNodeUnchecked',\n",
       " 'BegEI',\n",
       " 'BegNI',\n",
       " 'Clr',\n",
       " 'Defrag',\n",
       " 'DelEdge',\n",
       " 'DelNode',\n",
       " 'Dump',\n",
       " 'Edges',\n",
       " 'Empty',\n",
       " 'EndEI',\n",
       " 'EndNI',\n",
       " 'GetEI',\n",
       " 'GetEdges',\n",
       " 'GetMxNId',\n",
       " 'GetNI',\n",
       " 'GetNIdV',\n",
       " 'GetNodes',\n",
       " 'GetRefs',\n",
       " 'GetRndNI',\n",
       " 'GetRndNId',\n",
       " 'GetSmallGraph',\n",
       " 'HasFlag',\n",
       " 'IsEdge',\n",
       " 'IsNode',\n",
       " 'IsOk',\n",
       " 'Load',\n",
       " 'LoadShM',\n",
       " 'New',\n",
       " 'Nodes',\n",
       " 'Reserve',\n",
       " 'ReserveNIdInDeg',\n",
       " 'ReserveNIdOutDeg',\n",
       " 'Save',\n",
       " 'SortNodeAdjV',\n",
       " '__call__',\n",
       " '__class__',\n",
       " '__delattr__',\n",
       " '__deref__',\n",
       " '__dict__',\n",
       " '__dir__',\n",
       " '__doc__',\n",
       " '__eq__',\n",
       " '__format__',\n",
       " '__ge__',\n",
       " '__getattribute__',\n",
       " '__gt__',\n",
       " '__hash__',\n",
       " '__init__',\n",
       " '__init_subclass__',\n",
       " '__le__',\n",
       " '__lt__',\n",
       " '__module__',\n",
       " '__ne__',\n",
       " '__new__',\n",
       " '__reduce__',\n",
       " '__reduce_ex__',\n",
       " '__ref__',\n",
       " '__repr__',\n",
       " '__setattr__',\n",
       " '__sizeof__',\n",
       " '__str__',\n",
       " '__subclasshook__',\n",
       " '__swig_destroy__',\n",
       " '__weakref__',\n",
       " 'this',\n",
       " 'thisown']"
      ]
     },
     "execution_count": 46,
     "metadata": {},
     "output_type": "execute_result"
    }
   ],
   "source": [
    "dir(G_wikivote)"
   ]
  },
  {
   "cell_type": "markdown",
   "metadata": {},
   "source": [
    "### 1.1. The number of nodes in the network. ($G_{small}$ has 3 nodes.)"
   ]
  },
  {
   "cell_type": "code",
   "execution_count": 57,
   "metadata": {},
   "outputs": [],
   "source": [
    "def num_nodes(G):\n",
    "    \"\"\"\n",
    "    1.1. The number of nodes in the network.\n",
    "    Input: Graph G\n",
    "    \"\"\"\n",
    "    return G.GetNodes()"
   ]
  },
  {
   "cell_type": "code",
   "execution_count": 77,
   "metadata": {},
   "outputs": [
    {
     "name": "stdout",
     "output_type": "stream",
     "text": [
      "3\n",
      "The number of nodes in the network = 7115\n"
     ]
    }
   ],
   "source": [
    "# 1.1\n",
    "print(num_nodes(G_small))\n",
    "print('The number of nodes in the network = {}'.format(num_nodes(G_wikivote)))"
   ]
  },
  {
   "cell_type": "markdown",
   "metadata": {},
   "source": [
    "### 1.2. The number of nodes with a self-edge (self-loop), i.e., the number of nodes $a \\in V$ where $(a, a) \\in E$. ($G_{small}$ has 1 self-edge.) "
   ]
  },
  {
   "cell_type": "code",
   "execution_count": 84,
   "metadata": {},
   "outputs": [],
   "source": [
    "def num_nodes_selfloop(G):\n",
    "    \"\"\"\n",
    "    1.2. The number of nodes with a self-edge (self-loop)\n",
    "    \"\"\"\n",
    "    num = 0\n",
    "    for E in G.Edges():\n",
    "        if E.GetSrcNId() == E.GetDstNId():\n",
    "            num += 1\n",
    "    return num\n",
    "            "
   ]
  },
  {
   "cell_type": "code",
   "execution_count": 85,
   "metadata": {},
   "outputs": [
    {
     "name": "stdout",
     "output_type": "stream",
     "text": [
      "1\n",
      "The number of nodes with a self-edge (self-loop) = 0\n"
     ]
    }
   ],
   "source": [
    "# 1.2\n",
    "print(num_nodes_selfloop(G_small))\n",
    "print('The number of nodes with a self-edge (self-loop) = {}' .format(num_nodes_selfloop(G_wikivote)))"
   ]
  },
  {
   "cell_type": "markdown",
   "metadata": {},
   "source": [
    "### 1.3. The number of directed edges in the network, i.e., the number of ordered pairs $(a, b) \\in E$ for which $a \\neq b$. ($G_{small}$ has 3 directed edges.)  "
   ]
  },
  {
   "cell_type": "code",
   "execution_count": 66,
   "metadata": {},
   "outputs": [],
   "source": [
    "def num_dir_edges(G):\n",
    "    \"\"\"\n",
    "    1.3. The number of directed edges in the network\n",
    "    \"\"\"\n",
    "    num = 0\n",
    "    for E in G.Edges():\n",
    "        if E.GetSrcNId() != E.GetDstNId():\n",
    "            num += 1\n",
    "    return num"
   ]
  },
  {
   "cell_type": "code",
   "execution_count": 81,
   "metadata": {},
   "outputs": [
    {
     "name": "stdout",
     "output_type": "stream",
     "text": [
      "3\n",
      "The number of directed edges in the network = 103689\n"
     ]
    }
   ],
   "source": [
    "# 1.3\n",
    "print(num_dir_edges(G_small))\n",
    "print('The number of directed edges in the network = {}' .format(num_dir_edges(G_wikivote)))"
   ]
  },
  {
   "cell_type": "markdown",
   "metadata": {},
   "source": [
    "### 1.4. The number of undirected edges in the network, i.e., the number of unique unordered pairs $(a, b), a \\neq b$, for which $(a, b) \\in E$ or $(b, a) \\in E$ (or both). If both $(a, b)$ and $(b, a)$ are edges, this counts a single undirected edge. ($G_{small}$ has 2 undirected edges.) "
   ]
  },
  {
   "cell_type": "code",
   "execution_count": 94,
   "metadata": {},
   "outputs": [],
   "source": [
    "def num_undir_edges(G):\n",
    "    \"\"\"\n",
    "    1.4. The number of undirected edges in the network\n",
    "    \"\"\"\n",
    "    num_one_way = 0\n",
    "    num_two_way = 0\n",
    "    for E in G.Edges():\n",
    "        if E.GetSrcNId() != E.GetDstNId():\n",
    "            if G.IsEdge(E.GetDstNId(), E.GetSrcNId()):\n",
    "                num_two_way += 1\n",
    "            else:\n",
    "                num_one_way += 1\n",
    "            \n",
    "    return num_one_way + int(num_two_way/2)"
   ]
  },
  {
   "cell_type": "code",
   "execution_count": 95,
   "metadata": {},
   "outputs": [
    {
     "name": "stdout",
     "output_type": "stream",
     "text": [
      "2\n",
      "The number of undirected edges in the network = 100762\n"
     ]
    }
   ],
   "source": [
    "# 1.4\n",
    "print(num_undir_edges(G_small))\n",
    "print('The number of undirected edges in the network = {}' .format(num_undir_edges(G_wikivote)))"
   ]
  },
  {
   "cell_type": "markdown",
   "metadata": {},
   "source": [
    "### 1.5. The number of reciprocated edges in the network, i.e., the number of unique unordered pairs of nodes $(a, b), a \\neq b$, for which $(a, b) \\in E$ and $(b, a) \\in E$. ($G_{small}$ has 1 reciprocated edge.) "
   ]
  },
  {
   "cell_type": "code",
   "execution_count": 96,
   "metadata": {},
   "outputs": [],
   "source": [
    "def num_rec_edges(G):\n",
    "    \"\"\"\n",
    "    1.5. The number of reciprocated edges in the network\n",
    "    \"\"\"\n",
    "    num_two_way = 0\n",
    "    for E in G.Edges():\n",
    "        if E.GetSrcNId() != E.GetDstNId():\n",
    "            if G.IsEdge(E.GetDstNId(), E.GetSrcNId()):\n",
    "                num_two_way += 1\n",
    "            \n",
    "    return int(num_two_way/2)"
   ]
  },
  {
   "cell_type": "code",
   "execution_count": 97,
   "metadata": {},
   "outputs": [
    {
     "name": "stdout",
     "output_type": "stream",
     "text": [
      "1\n",
      "The number of reciprocated edges in the network = 2927\n"
     ]
    }
   ],
   "source": [
    "# 1.5\n",
    "print(num_rec_edges(G_small))\n",
    "print('The number of reciprocated edges in the network = {}' .format(num_rec_edges(G_wikivote)))"
   ]
  },
  {
   "cell_type": "markdown",
   "metadata": {},
   "source": [
    "### 1.6. The number of nodes of zero out-degree. ($G_{small}$ has 1 node with zero out-degree.)  "
   ]
  },
  {
   "cell_type": "code",
   "execution_count": 103,
   "metadata": {},
   "outputs": [],
   "source": [
    "def num_zero_outdeg_nodes(G):\n",
    "    \"\"\"\n",
    "    1.6. The number of nodes of zero out-degree\n",
    "    \"\"\"\n",
    "    num = 0\n",
    "    for N in G.Nodes():\n",
    "        if N.GetOutDeg() == 0:\n",
    "            num += 1\n",
    "    return num"
   ]
  },
  {
   "cell_type": "code",
   "execution_count": 104,
   "metadata": {},
   "outputs": [
    {
     "name": "stdout",
     "output_type": "stream",
     "text": [
      "1\n",
      "The number of nodes of zero out-degree = 1005\n"
     ]
    }
   ],
   "source": [
    "# 1.6\n",
    "print(num_zero_outdeg_nodes(G_small))\n",
    "print('The number of nodes of zero out-degree = {}' .format(num_zero_outdeg_nodes(G_wikivote)))"
   ]
  },
  {
   "cell_type": "markdown",
   "metadata": {},
   "source": [
    "### 1.7. The number of nodes of zero in-degree. ($G_{small}$ has 0 nodes with zero in-degree.)  "
   ]
  },
  {
   "cell_type": "code",
   "execution_count": 105,
   "metadata": {},
   "outputs": [],
   "source": [
    "def num_zero_indeg_nodes(G):\n",
    "    \"\"\"\n",
    "    1.7. The number of nodes of zero in-degree\n",
    "    \"\"\"\n",
    "    num = 0\n",
    "    for N in G.Nodes():\n",
    "        if N.GetInDeg() == 0:\n",
    "            num += 1\n",
    "    return num"
   ]
  },
  {
   "cell_type": "code",
   "execution_count": 106,
   "metadata": {},
   "outputs": [
    {
     "name": "stdout",
     "output_type": "stream",
     "text": [
      "0\n",
      "The number of nodes of zero out-degree = 4734\n"
     ]
    }
   ],
   "source": [
    "# 1.7\n",
    "print(num_zero_indeg_nodes(G_small))\n",
    "print('The number of nodes of zero out-degree = {}' .format(num_zero_indeg_nodes(G_wikivote)))"
   ]
  },
  {
   "cell_type": "markdown",
   "metadata": {},
   "source": [
    "### 1.8. The number of nodes with more than 10 outgoing edges ($out-degree > 10$).  "
   ]
  },
  {
   "cell_type": "code",
   "execution_count": 109,
   "metadata": {},
   "outputs": [],
   "source": [
    "def num_outdegmore10_nodes(G):\n",
    "    \"\"\"\n",
    "    1.8. The number of nodes with more than 10 outgoing edges\n",
    "    \"\"\"\n",
    "    num = 0\n",
    "    for N in G.Nodes():\n",
    "        if N.GetOutDeg() > 10:\n",
    "            num += 1\n",
    "    return num\n"
   ]
  },
  {
   "cell_type": "code",
   "execution_count": 110,
   "metadata": {},
   "outputs": [
    {
     "name": "stdout",
     "output_type": "stream",
     "text": [
      "0\n",
      "The number of nodes with more than 10 outgoing edges = 1612\n"
     ]
    }
   ],
   "source": [
    "print(num_outdegmore10_nodes(G_small))\n",
    "print('The number of nodes with more than 10 outgoing edges = {}' .format(num_outdegmore10_nodes(G_wikivote)))"
   ]
  },
  {
   "cell_type": "markdown",
   "metadata": {},
   "source": [
    "### 1.9. The number of nodes with fewer than 10 incoming edges ($in-degree < 10$).   "
   ]
  },
  {
   "cell_type": "code",
   "execution_count": 111,
   "metadata": {},
   "outputs": [],
   "source": [
    "def num_indegless10_nodes(G):\n",
    "    \"\"\"\n",
    "    1.9. The number of nodes with fewer than 10 incoming edges\n",
    "    \"\"\"\n",
    "    num = 0\n",
    "    for N in G.Nodes():\n",
    "        if N.GetInDeg() < 10:\n",
    "            num += 1\n",
    "    return num"
   ]
  },
  {
   "cell_type": "code",
   "execution_count": 112,
   "metadata": {},
   "outputs": [
    {
     "name": "stdout",
     "output_type": "stream",
     "text": [
      "3\n",
      "The number of nodes with fewer than 10 incoming edges = 5165\n"
     ]
    }
   ],
   "source": [
    "print(num_indegless10_nodes(G_small))\n",
    "print('The number of nodes with fewer than 10 incoming edges = {}' .format(num_indegless10_nodes(G_wikivote)))"
   ]
  },
  {
   "cell_type": "markdown",
   "metadata": {},
   "source": [
    "# 2. Further Analyzing the Wikipedia voters network\n",
    "For this problem, we use the Wikipedia voters network. If you are using Python, you might want to use $NumPy$, $SciPy$, and/or $Matplotlib$ libraries.\n",
    "*  Plot the distribution of out-degrees of nodes in the network on a log-log scale. Each data point is a pair $(x, y)$ where $x$ is a positive integer and $y$ is the number of nodes in the network with out-degree equal to $x$. Restrict the range of $x$ between the minimum and maximum out-degrees. You may filter out data points with a $0$ entry. For the log-log scale, use base $10$ for both $x$ and $y$ axes.    \n",
    "<br>\n",
    "* Compute and plot the least-square regression line for the out-degree distribution in the log-log scale plot. Note we want to find coefficients a and b such that the function $\\log_{10}y = a \\cdot \\log_{10}x + b$, equivalently, $y = 10^b\\cdot x^a$ , best fits the out-degree distribution. What are the coefficients $a$ and $b$? For this part, you might want to use the method called $polyfit$ in NumPy with deg parameter equal to $1$"
   ]
  },
  {
   "cell_type": "code",
   "execution_count": 336,
   "metadata": {},
   "outputs": [
    {
     "name": "stdout",
     "output_type": "stream",
     "text": [
      "max out-degree of wiki vote network is 893\n",
      "min out-degree of wiki vote network is 1\n"
     ]
    }
   ],
   "source": [
    "Deg_wikivote = sp.TIntPrV()\n",
    "sp.GetOutDegCnt(G_wikivote, Deg_wikivote)\n",
    "y_num_nodes = []\n",
    "x_degrees = []\n",
    "for i in Deg_wikivote:\n",
    "    if i.GetVal1() != 0:\n",
    "        x_degrees.append(i.GetVal1())\n",
    "        y_num_nodes.append(i.GetVal2())\n",
    "x_degrees = np.array(x_degrees, dtype=np.float)\n",
    "y_num_nodes = np.array(y_num_nodes , dtype=np.float)\n",
    "\n",
    "max_deg = np.amax(x_degrees)\n",
    "min_deg = np.amin(x_degrees)\n",
    "print('max out-degree of wiki vote network is {}' .format(int(max_deg)))\n",
    "print('min out-degree of wiki vote network is {}' .format(int(min_deg)))"
   ]
  },
  {
   "cell_type": "code",
   "execution_count": 207,
   "metadata": {},
   "outputs": [],
   "source": [
    "import matplotlib.pyplot as plt\n",
    "%matplotlib inline "
   ]
  },
  {
   "cell_type": "code",
   "execution_count": 344,
   "metadata": {},
   "outputs": [
    {
     "name": "stdout",
     "output_type": "stream",
     "text": [
      "The least-square regression line is:\n",
      "  \n",
      "-1.281 x + 3.132\n"
     ]
    },
    {
     "data": {
      "image/png": "[encoded data removed]",
      "text/plain": [
       "<Figure size 432x288 with 1 Axes>"
      ]
     },
     "metadata": {},
     "output_type": "display_data"
    },
    {
     "name": "stdout",
     "output_type": "stream",
     "text": [
      "a = -1.2810647056745657\n",
      "b = 3.1324547044999136\n"
     ]
    }
   ],
   "source": [
    "z = np.polyfit(np.log10(x_degrees), np.log10(y_num_nodes), 1)\n",
    "para = np.poly1d(z)\n",
    "print('The least-square regression line is:\\n {}'.format(para))\n",
    "xp = np.linspace(np.log10(min_deg), np.log10(max_deg), num=x_degrees.shape[0])\n",
    "\n",
    "fig = plt.figure()\n",
    "plt.bar(x=np.log10(x_degrees), height=np.log10(y_num_nodes), width=0.5, color='pink')\n",
    "plt.plot(np.log10(x_degrees), np.log10(y_num_nodes), '*', color='c', label='distribution')\n",
    "plt.plot(xp, para(xp), '--', color='k', label='regression')\n",
    "plt.grid(axis='y')\n",
    "plt.xlim(np.log10(min_deg), np.log10(max_deg))\n",
    "plt.xlabel('node out degree (log10 scale)',fontsize=15)\n",
    "plt.ylabel('node number (log10 scale)',fontsize=15)\n",
    "plt.xticks(fontsize=15)\n",
    "plt.yticks(fontsize=15)\n",
    "plt.title('Distribution of out-degrees',fontsize=15)\n",
    "plt.legend()\n",
    "plt.show()\n",
    "\n",
    "print('a = {}\\nb = {}'.format(z[0], z[1]))"
   ]
  },
  {
   "cell_type": "markdown",
   "metadata": {},
   "source": [
    "# 3. Finding Experts on the Java Programming Language on StackOverflow\n",
    "Download the StackOverflow network stackoverflow-Java.txt.gz: http://snap.stanford.edu/class/cs224w-data/hw0/stackoverflow-Java.txt.gz. An edge $(a, b)$ in the network means that person a endorsed an answer from person b on a Java-related question.  \n",
    "<br>\n",
    "Using one of the network analysis tools above, load the StackOverflow network. Note that StackOverflow is a directed network. Compute and print out the following statistics for the stackoverflow-Java network:"
   ]
  },
  {
   "cell_type": "code",
   "execution_count": 292,
   "metadata": {},
   "outputs": [],
   "source": [
    "fname_stack = os.path.join(r'../Dataset', 'stackoverflow-Java.txt')\n",
    "G_stack = sp.LoadEdgeList(sp.PNGraph, fname_stack, 0, 1)"
   ]
  },
  {
   "cell_type": "markdown",
   "metadata": {},
   "source": [
    "### 1. The number of weakly connected components in the network. This value can be calculated in $Snap.py$ via function $GetWccs$."
   ]
  },
  {
   "cell_type": "code",
   "execution_count": 302,
   "metadata": {},
   "outputs": [
    {
     "name": "stdout",
     "output_type": "stream",
     "text": [
      "The number of weakly connected components is: 10143\n"
     ]
    }
   ],
   "source": [
    "wccs_stack = sp.TCnComV()\n",
    "sp.GetWccs(G_stack, wccs_stack)\n",
    "print('The number of weakly connected components is: {}' .format(wccs_stack.Len()))"
   ]
  },
  {
   "cell_type": "markdown",
   "metadata": {},
   "source": [
    "### 2. The number of edges and the number of nodes in the largest weakly connected component. The largest weakly connected component is calculated in $Snap.py$ with function $GetMxWcc$."
   ]
  },
  {
   "cell_type": "code",
   "execution_count": 297,
   "metadata": {},
   "outputs": [
    {
     "name": "stdout",
     "output_type": "stream",
     "text": [
      "The number of edges is 322486 and the number of nodes is 131188 in the largest weakly connected component\n"
     ]
    }
   ],
   "source": [
    "MxWcc = sp.GetMxWcc(G_stack)\n",
    "print('The number of edges is {} and the number of nodes is {} in the largest weakly connected component'\n",
    "      .format(MxWcc.GetEdges(), MxWcc.GetNodes()))"
   ]
  },
  {
   "cell_type": "markdown",
   "metadata": {},
   "source": [
    "### 3. IDs of the top $3$ most central nodes in the network by $PagePank$ scores. $PageRank$ scores are calculated in $Snap.py$ with function $GetPageRank$."
   ]
  },
  {
   "cell_type": "code",
   "execution_count": 284,
   "metadata": {},
   "outputs": [
    {
     "name": "stdout",
     "output_type": "stream",
     "text": [
      "IDs of the top 3 most central nodes are: 22656, 135152, 992484\n"
     ]
    }
   ],
   "source": [
    "PRankH = sp.TIntFltH()\n",
    "sp.GetPageRank(G_stack, PRankH)\n",
    "Page_IDs = []\n",
    "Page_scores = []\n",
    "for item in PRankH:\n",
    "    Page_IDs.append(item)\n",
    "    Page_scores.append(PRankH[item])\n",
    "N = 3\n",
    "maxrank_ind = sorted(range(len(Page_scores)), key = lambda sub: Page_scores[sub])[-N:] \n",
    "print('IDs of the top 3 most central nodes are: {}, {}, {}'\n",
    "      .format(Page_IDs[maxrank_ind[0]], Page_IDs[maxrank_ind[1]], Page_IDs[maxrank_ind[2]] ))"
   ]
  },
  {
   "cell_type": "markdown",
   "metadata": {},
   "source": [
    "### 4. IDs of the top $3$ hubs and top $3$ authorities in the network by HITS scores. HITS scores are calculated in $Snap.py$ with function $GetHits$."
   ]
  },
  {
   "cell_type": "code",
   "execution_count": 287,
   "metadata": {},
   "outputs": [
    {
     "name": "stdout",
     "output_type": "stream",
     "text": [
      "IDs of the top 3 hubs are: 359862, 1194415, 892029\n",
      "IDs of the top 3 authorities are: 571407, 157882, 22656\n"
     ]
    }
   ],
   "source": [
    "NIdHubH = sp.TIntFltH()\n",
    "NIdAuthH = sp.TIntFltH()\n",
    "sp.GetHits(G_stack, NIdHubH, NIdAuthH)\n",
    "Hub_IDs = []\n",
    "Auth_IDs = []\n",
    "Hub_scores = []\n",
    "Auth_scores = []\n",
    "for item in NIdHubH:\n",
    "    Hub_IDs.append(item)\n",
    "    Hub_scores.append(NIdHubH[item])\n",
    "for item in NIdAuthH:\n",
    "    Auth_IDs.append(item)\n",
    "    Auth_scores.append(NIdAuthH[item])\n",
    "N = 3\n",
    "maxHub_ind = sorted(range(len(Hub_scores)), key = lambda sub: Hub_scores[sub])[-N:] \n",
    "maxAuth_ind = sorted(range(len(Auth_scores)), key = lambda sub: Auth_scores[sub])[-N:] \n",
    "print('IDs of the top 3 hubs are: {}, {}, {}'\n",
    "      .format(Hub_IDs[maxHub_ind[0]], Hub_IDs[maxHub_ind[1]], Hub_IDs[maxHub_ind[2]] ))   \n",
    "print('IDs of the top 3 authorities are: {}, {}, {}'\n",
    "      .format(Auth_IDs[maxAuth_ind[0]], Auth_IDs[maxAuth_ind[1]], Auth_IDs[maxAuth_ind[2]] )) "
   ]
  },
  {
   "cell_type": "code",
   "execution_count": null,
   "metadata": {},
   "outputs": [],
   "source": []
  }
 ],
 "metadata": {
  "kernelspec": {
   "display_name": "Python 3",
   "language": "python",
   "name": "python3"
  },
  "language_info": {
   "codemirror_mode": {
    "name": "ipython",
    "version": 3
   },
   "file_extension": ".py",
   "mimetype": "text/x-python",
   "name": "python",
   "nbconvert_exporter": "python",
   "pygments_lexer": "ipython3",
   "version": "3.7.7"
  }
 },
 "nbformat": 4,
 "nbformat_minor": 4
}
